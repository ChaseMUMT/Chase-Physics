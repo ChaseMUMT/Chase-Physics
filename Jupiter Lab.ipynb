{
 "cells": [
  {
   "cell_type": "code",
   "execution_count": 3,
   "id": "adabee3a",
   "metadata": {},
   "outputs": [
    {
     "name": "stdout",
     "output_type": "stream",
     "text": [
      "0.00025\n"
     ]
    }
   ],
   "source": [
    "import numpy as np\n",
    "\n",
    "#rule 1\n",
    "\n",
    "def rule1 (da,c):\n",
    "    dQ=c*da\n",
    "    return dQ\n",
    "a=1\n",
    "c=.5\n",
    "erra=.0005\n",
    "errQ=rule1(erra,c)\n",
    "print (errQ)\n",
    "    \n",
    "\n"
   ]
  },
  {
   "cell_type": "code",
   "execution_count": 8,
   "id": "1146a3d8",
   "metadata": {},
   "outputs": [
    {
     "name": "stdout",
     "output_type": "stream",
     "text": [
      "0.0015\n"
     ]
    }
   ],
   "source": [
    "import numpy as np\n",
    "\n",
    "#rule 2\n",
    "\n",
    "def rule2 (a,da,c,m):\n",
    "    dQ=c*m*a**(m-1)*da\n",
    "    return dQ\n",
    "a=3\n",
    "da=.0005\n",
    "c=.5\n",
    "m=2\n",
    "errQ=rule2(a,da,c,m)\n",
    "print (errQ)\n"
   ]
  },
  {
   "cell_type": "code",
   "execution_count": 1,
   "id": "ab5925ed",
   "metadata": {},
   "outputs": [
    {
     "name": "stdout",
     "output_type": "stream",
     "text": [
      "dtotal= 1.3\n",
      "errdtotal= 0.0007071067811865475\n"
     ]
    }
   ],
   "source": [
    "import numpy as np\n",
    "\n",
    "#rule 3\n",
    "\n",
    "def rule3(da,db):\n",
    "    dQ=np.sqrt(da**2+db**2)\n",
    "    return dQ\n",
    "\n",
    "d1=1.0\n",
    "d2=.3\n",
    "errd1=.0005\n",
    "errd2=.0005\n",
    "dtotal=d1+d2\n",
    "errdtotal = rule3(errd1,errd2)\n",
    "print(\"dtotal=\", dtotal)\n",
    "print(\"errdtotal=\" ,errdtotal)"
   ]
  },
  {
   "cell_type": "code",
   "execution_count": 14,
   "id": "4279e4de",
   "metadata": {},
   "outputs": [
    {
     "name": "stdout",
     "output_type": "stream",
     "text": [
      "0.0018867962264113207\n"
     ]
    }
   ],
   "source": [
    "import numpy as np\n",
    "\n",
    "#rule 4\n",
    "\n",
    "def rule4(a,da,b,db,m,n,Q):\n",
    "    dQ=Q*np.sqrt((m*(da/a))**2+(n*(db/b))**2)\n",
    "    return dQ\n",
    "a=2\n",
    "da=.0005\n",
    "b=2.5\n",
    "db=.0005\n",
    "m=1\n",
    "n=2\n",
    "Q=4\n",
    "errQ=rule4(a,da,b,db,m,n,Q)\n",
    "print (errQ)"
   ]
  },
  {
   "cell_type": "code",
   "execution_count": 17,
   "id": "a7fcf22d",
   "metadata": {},
   "outputs": [
    {
     "name": "stdout",
     "output_type": "stream",
     "text": [
      "0.010662063297504047\n"
     ]
    }
   ],
   "source": [
    "import numpy as np\n",
    "\n",
    "#rule 4\n",
    "\n",
    "def rule4(a,da,b,db,n,Q):\n",
    "    dQ=Q*np.sqrt((m*(da/a))**2+(n*(db/b))**2)\n",
    "    return dQ\n",
    "a=.991\n",
    "da=.00005\n",
    "b=1.022\n",
    "db=.0048\n",
    "n=-1\n",
    "Q=2.27\n",
    "errQ=rule4(a,da,b,db,n,Q)\n",
    "print (errQ)\n",
    "\n",
    "#The value was is the same as my calculation"
   ]
  },
  {
   "cell_type": "code",
   "execution_count": 18,
   "id": "d98799c5",
   "metadata": {},
   "outputs": [
    {
     "name": "stdout",
     "output_type": "stream",
     "text": [
      "1.1166666666666667\n",
      "0.17950549357115014\n"
     ]
    }
   ],
   "source": [
    "import numpy as np\n",
    "\n",
    "x=np.array([1.1,1.3,1.4,.9,.95,1.05])\n",
    "xmean=np.average(x)\n",
    "xstdev=np.std(x)\n",
    "print (xmean)\n",
    "print(xstdev)"
   ]
  },
  {
   "cell_type": "markdown",
   "id": "1df60367",
   "metadata": {},
   "source": [
    "$\\delta Q = \\sqrt{(\\delta A)^2+(\\delta B)^2}$\n"
   ]
  },
  {
   "cell_type": "markdown",
   "id": "7f7305d4",
   "metadata": {},
   "source": [
    "$vi=x*\\sqrt{g/2y}$"
   ]
  },
  {
   "cell_type": "code",
   "execution_count": null,
   "id": "9276164d",
   "metadata": {},
   "outputs": [],
   "source": []
  }
 ],
 "metadata": {
  "kernelspec": {
   "display_name": "Python 3",
   "language": "python",
   "name": "python3"
  },
  "language_info": {
   "codemirror_mode": {
    "name": "ipython",
    "version": 3
   },
   "file_extension": ".py",
   "mimetype": "text/x-python",
   "name": "python",
   "nbconvert_exporter": "python",
   "pygments_lexer": "ipython3",
   "version": "3.8.8"
  }
 },
 "nbformat": 4,
 "nbformat_minor": 5
}
